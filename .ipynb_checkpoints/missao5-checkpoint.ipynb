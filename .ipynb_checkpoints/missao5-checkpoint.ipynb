{
 "cells": [
  {
   "cell_type": "markdown",
   "metadata": {},
   "source": [
    "# <font color='blue'>Data Science Academy - Python Fundamentos - Capítulo 7</font>\n",
    "\n",
    "## Download: http://github.com/dsacademybr"
   ]
  },
  {
   "cell_type": "markdown",
   "metadata": {},
   "source": [
    "## Missão: Analisar o Comportamento de Compra de Consumidores."
   ]
  },
  {
   "cell_type": "markdown",
   "metadata": {},
   "source": [
    "## Nível de Dificuldade: Alto"
   ]
  },
  {
   "cell_type": "markdown",
   "metadata": {},
   "source": [
    "Você recebeu a tarefa de analisar os dados de compras de um web site! Os dados estão no formato JSON e disponíveis junto com este notebook.\n",
    "\n",
    "No site, cada usuário efetua login usando sua conta pessoal e pode adquirir produtos à medida que navega pela lista de produtos oferecidos. Cada produto possui um valor de venda. Dados de idade e sexo de cada usuário foram coletados e estão fornecidos no arquivo JSON.\n",
    "\n",
    "Seu trabalho é entregar uma análise de comportamento de compra dos consumidores. Esse é um tipo de atividade comum realizado por Cientistas de Dados e o resultado deste trabalho pode ser usado, por exemplo, para alimentar um modelo de Machine Learning e fazer previsões sobre comportamentos futuros.\n",
    "\n",
    "Mas nesta missão você vai analisar o comportamento de compra dos consumidores usando o pacote Pandas da linguagem Python e seu relatório final deve incluir cada um dos seguintes itens:\n",
    "\n",
    "** Contagem de Consumidores **\n",
    "\n",
    "* Número total de consumidores\n",
    "\n",
    "\n",
    "** Análise Geral de Compras **\n",
    "\n",
    "* Número de itens exclusivos\n",
    "* Preço médio de compra\n",
    "* Número total de compras\n",
    "* Rendimento total\n",
    "\n",
    "\n",
    "** Informações Demográficas Por Gênero **\n",
    "\n",
    "* Porcentagem e contagem de compradores masculinos\n",
    "* Porcentagem e contagem de compradores do sexo feminino\n",
    "* Porcentagem e contagem de outros / não divulgados\n",
    "\n",
    "\n",
    "** Análise de Compras Por Gênero **\n",
    "\n",
    "* Número de compras\n",
    "* Preço médio de compra\n",
    "* Valor Total de Compra\n",
    "* Compras por faixa etária\n",
    "\n",
    "\n",
    "** Identifique os 5 principais compradores pelo valor total de compra e, em seguida, liste (em uma tabela): **\n",
    "\n",
    "* Login\n",
    "* Número de compras\n",
    "* Preço médio de compra\n",
    "* Valor Total de Compra\n",
    "* Itens mais populares\n",
    "\n",
    "\n",
    "** Identifique os 5 itens mais populares por contagem de compras e, em seguida, liste (em uma tabela): **\n",
    "\n",
    "* ID do item\n",
    "* Nome do item\n",
    "* Número de compras\n",
    "* Preço do item\n",
    "* Valor Total de Compra\n",
    "* Itens mais lucrativos\n",
    "\n",
    "\n",
    "** Identifique os 5 itens mais lucrativos pelo valor total de compra e, em seguida, liste (em uma tabela): **\n",
    "\n",
    "* ID do item\n",
    "* Nome do item\n",
    "* Número de compras\n",
    "* Preço do item\n",
    "* Valor Total de Compra\n",
    "\n",
    "\n",
    "** Como considerações finais: **\n",
    "\n",
    "* Seu script deve funcionar para o conjunto de dados fornecido.\n",
    "* Você deve usar a Biblioteca Pandas e o Jupyter Notebook.\n"
   ]
  },
  {
   "cell_type": "code",
   "execution_count": 1,
   "metadata": {},
   "outputs": [],
   "source": [
    "# Imports\n",
    "import pandas as pd\n",
    "import numpy as np"
   ]
  },
  {
   "cell_type": "code",
   "execution_count": 2,
   "metadata": {},
   "outputs": [
    {
     "data": {
      "text/html": [
       "<div>\n",
       "<style scoped>\n",
       "    .dataframe tbody tr th:only-of-type {\n",
       "        vertical-align: middle;\n",
       "    }\n",
       "\n",
       "    .dataframe tbody tr th {\n",
       "        vertical-align: top;\n",
       "    }\n",
       "\n",
       "    .dataframe thead th {\n",
       "        text-align: right;\n",
       "    }\n",
       "</style>\n",
       "<table border=\"1\" class=\"dataframe\">\n",
       "  <thead>\n",
       "    <tr style=\"text-align: right;\">\n",
       "      <th></th>\n",
       "      <th>Login</th>\n",
       "      <th>Idade</th>\n",
       "      <th>Sexo</th>\n",
       "      <th>Item ID</th>\n",
       "      <th>Nome do Item</th>\n",
       "      <th>Valor</th>\n",
       "    </tr>\n",
       "  </thead>\n",
       "  <tbody>\n",
       "    <tr>\n",
       "      <th>0</th>\n",
       "      <td>Aelalis34</td>\n",
       "      <td>38</td>\n",
       "      <td>Masculino</td>\n",
       "      <td>165</td>\n",
       "      <td>Bone Crushing Silver Skewer</td>\n",
       "      <td>3.37</td>\n",
       "    </tr>\n",
       "    <tr>\n",
       "      <th>1</th>\n",
       "      <td>Eolo46</td>\n",
       "      <td>21</td>\n",
       "      <td>Masculino</td>\n",
       "      <td>119</td>\n",
       "      <td>Stormbringer, Dark Blade of Ending Misery</td>\n",
       "      <td>2.32</td>\n",
       "    </tr>\n",
       "    <tr>\n",
       "      <th>2</th>\n",
       "      <td>Assastnya25</td>\n",
       "      <td>34</td>\n",
       "      <td>Masculino</td>\n",
       "      <td>174</td>\n",
       "      <td>Primitive Blade</td>\n",
       "      <td>2.46</td>\n",
       "    </tr>\n",
       "    <tr>\n",
       "      <th>3</th>\n",
       "      <td>Pheusrical25</td>\n",
       "      <td>21</td>\n",
       "      <td>Masculino</td>\n",
       "      <td>92</td>\n",
       "      <td>Final Critic</td>\n",
       "      <td>1.36</td>\n",
       "    </tr>\n",
       "    <tr>\n",
       "      <th>4</th>\n",
       "      <td>Aela59</td>\n",
       "      <td>23</td>\n",
       "      <td>Masculino</td>\n",
       "      <td>63</td>\n",
       "      <td>Stormfury Mace</td>\n",
       "      <td>1.27</td>\n",
       "    </tr>\n",
       "  </tbody>\n",
       "</table>\n",
       "</div>"
      ],
      "text/plain": [
       "          Login  Idade       Sexo  Item ID  \\\n",
       "0     Aelalis34     38  Masculino      165   \n",
       "1        Eolo46     21  Masculino      119   \n",
       "2   Assastnya25     34  Masculino      174   \n",
       "3  Pheusrical25     21  Masculino       92   \n",
       "4        Aela59     23  Masculino       63   \n",
       "\n",
       "                                Nome do Item  Valor  \n",
       "0                Bone Crushing Silver Skewer   3.37  \n",
       "1  Stormbringer, Dark Blade of Ending Misery   2.32  \n",
       "2                            Primitive Blade   2.46  \n",
       "3                               Final Critic   1.36  \n",
       "4                             Stormfury Mace   1.27  "
      ]
     },
     "execution_count": 2,
     "metadata": {},
     "output_type": "execute_result"
    }
   ],
   "source": [
    "# Carrega o arquivo\n",
    "load_file = \"dados_compras.json\"\n",
    "purchase_file = pd.read_json(load_file, orient = \"records\")\n",
    "purchase_file.head()"
   ]
  },
  {
   "cell_type": "markdown",
   "metadata": {},
   "source": [
    "## Informações Sobre os Consumidores"
   ]
  },
  {
   "cell_type": "code",
   "execution_count": 3,
   "metadata": {},
   "outputs": [
    {
     "name": "stdout",
     "output_type": "stream",
     "text": [
      "Número total de consumidores:\n",
      "573\n"
     ]
    }
   ],
   "source": [
    "print(\"Número total de consumidores:\")\n",
    "print(len(purchase_file.Login.unique()))"
   ]
  },
  {
   "cell_type": "markdown",
   "metadata": {},
   "source": [
    "## Análise Geral de Compras"
   ]
  },
  {
   "cell_type": "code",
   "execution_count": 4,
   "metadata": {},
   "outputs": [
    {
     "name": "stdout",
     "output_type": "stream",
     "text": [
      "Número de itens exclusivos:\n",
      "183\n",
      "\n",
      "\n",
      "Preço médio de compra:\n",
      "$  2.931192307692303\n",
      "\n",
      "\n",
      "Número total de compras:\n",
      "780\n",
      "\n",
      "\n",
      "Rendimento total:\n",
      "$  2286.33\n"
     ]
    }
   ],
   "source": [
    "print(\"Número de itens exclusivos:\")\n",
    "print(len(purchase_file['Item ID'].unique()))\n",
    "print(\"\\n\")\n",
    "print(\"Preço médio de compra:\")\n",
    "print(\"$ \", purchase_file['Valor'].mean())\n",
    "print(\"\\n\")\n",
    "print(\"Número total de compras:\")\n",
    "print(purchase_file['Item ID'].count())\n",
    "print(\"\\n\")\n",
    "print(\"Rendimento total:\")\n",
    "print(\"$ \", purchase_file['Valor'].sum())"
   ]
  },
  {
   "cell_type": "markdown",
   "metadata": {},
   "source": [
    "## Análise Demográfica"
   ]
  },
  {
   "cell_type": "code",
   "execution_count": 5,
   "metadata": {},
   "outputs": [
    {
     "name": "stdout",
     "output_type": "stream",
     "text": [
      "Porcentagem e contagem de compradores masculinos:\n",
      "81.0 %\n",
      "633\n",
      "\n",
      "\n",
      "Porcentagem e contagem de compradores do sexo feminino:\n",
      "17.0 %\n",
      "136\n",
      "\n",
      "\n",
      "Porcentagem e contagem de outros / não divulgados:\n",
      "1.0 %\n",
      "11\n"
     ]
    }
   ],
   "source": [
    "print(\"Porcentagem e contagem de compradores masculinos:\")\n",
    "total = purchase_file['Login'].count()\n",
    "masc = purchase_file[purchase_file.Sexo == 'Masculino'].Login.count()\n",
    "print(round(masc / total, 2) * 100, '%')\n",
    "print(masc)\n",
    "print(\"\\n\")\n",
    "print(\"Porcentagem e contagem de compradores do sexo feminino:\")\n",
    "fem = purchase_file[purchase_file.Sexo == 'Feminino'].Login.count()\n",
    "print(round(fem / total, 2) * 100, '%')\n",
    "print(fem)\n",
    "print(\"\\n\")\n",
    "print(\"Porcentagem e contagem de outros / não divulgados:\")\n",
    "ond = purchase_file[purchase_file.Sexo == 'Outro / Não Divulgado'].Login.count()\n",
    "print(round(ond / total, 2) * 100, '%')\n",
    "print(ond)"
   ]
  },
  {
   "cell_type": "markdown",
   "metadata": {},
   "source": [
    "## Análise de Compras Por Gênero"
   ]
  },
  {
   "cell_type": "code",
   "execution_count": 6,
   "metadata": {},
   "outputs": [
    {
     "name": "stdout",
     "output_type": "stream",
     "text": [
      "Número de compras:\n",
      "Masculino 633 | Feminino 136\n",
      "\n",
      "\n",
      "Preço médio de compra:\n",
      "Masculino $2.95 | Feminino $2.82\n",
      "\n",
      "\n",
      "Valor Total de Compra:\n",
      "Masculino $1867.68 | Feminino $382.91\n",
      "\n",
      "\n",
      "Compras por faixa etária:\n",
      "Masculino\n",
      "Até 18: 119 | 18 - 29: 416 | +30: 98\n",
      "Feminino\n",
      "Até 18: 30 | 18 - 29: 86 | +30: 20\n"
     ]
    }
   ],
   "source": [
    "print(\"Número de compras:\")\n",
    "print(\"Masculino {} | Feminino {}\".format(masc, fem))\n",
    "print(\"\\n\")\n",
    "print(\"Preço médio de compra:\")\n",
    "valor_masc = purchase_file[purchase_file.Sexo == 'Masculino'].Valor.mean()\n",
    "valor_fem = purchase_file[purchase_file.Sexo == 'Feminino'].Valor.mean()\n",
    "print(\"Masculino ${} | Feminino ${}\".format(round(valor_masc, 2), round(valor_fem, 2)))\n",
    "print(\"\\n\")\n",
    "print(\"Valor Total de Compra:\")\n",
    "masc_total = purchase_file[purchase_file.Sexo == 'Masculino'].Valor.sum()\n",
    "fem_total = purchase_file[purchase_file.Sexo == 'Feminino'].Valor.sum()\n",
    "print(\"Masculino ${} | Feminino ${}\".format(round(masc_total, 2), round(fem_total, 2)))\n",
    "print(\"\\n\")\n",
    "print(\"Compras por faixa etária:\")\n",
    "masc_u18 = purchase_file[(purchase_file.Idade < 18) & (purchase_file.Sexo == 'Masculino')].Login.count()\n",
    "masc_18_29 = purchase_file[(purchase_file.Idade >= 18) & (purchase_file.Idade < 30) & (purchase_file.Sexo == 'Masculino')].Login.count()\n",
    "masc_30 = purchase_file[(purchase_file.Idade > 29) & (purchase_file.Sexo == 'Masculino')].Login.count()\n",
    "print(\"Masculino\")\n",
    "print(\"Até 18: {} | 18 - 29: {} | +30: {}\".format(masc_u18, masc_18_29, masc_30))\n",
    "fem_u18 = purchase_file[(purchase_file.Idade < 18) & (purchase_file.Sexo == 'Feminino')].Login.count()\n",
    "fem_18_29 = purchase_file[(purchase_file.Idade >= 18) & (purchase_file.Idade < 30) & (purchase_file.Sexo == 'Feminino')].Login.count()\n",
    "fem_30 = purchase_file[(purchase_file.Idade > 29) & (purchase_file.Sexo == 'Feminino')].Login.count()\n",
    "print(\"Feminino\")\n",
    "print(\"Até 18: {} | 18 - 29: {} | +30: {}\".format(fem_u18, fem_18_29, fem_30))"
   ]
  },
  {
   "cell_type": "markdown",
   "metadata": {},
   "source": [
    "## Consumidores Mais Populares (Top 5)"
   ]
  },
  {
   "cell_type": "code",
   "execution_count": 16,
   "metadata": {},
   "outputs": [
    {
     "name": "stdout",
     "output_type": "stream",
     "text": [
      "Login:\n",
      "1 Undirrala66\n",
      "2 Mindimnya67\n",
      "3 Qarwen67\n",
      "4 Saedue76\n",
      "5 Sondastan54\n",
      "\n",
      "\n",
      "Número de compras:\n",
      "             Compras\n",
      "Login               \n",
      "Undirrala66        5\n",
      "Mindimnya67        4\n",
      "Qarwen67           4\n",
      "Saedue76           4\n",
      "Sondastan54        4\n",
      "\n",
      "\n",
      "Preço médio de compra:\n",
      "Login\n",
      "Frichaststa61    4.95\n",
      "Palurrian69      4.95\n",
      "Tyarithn67       4.95\n",
      "Qiluard68        4.95\n",
      "Syathe73         4.89\n",
      "Name: mean, dtype: float64\n",
      "\n",
      "\n",
      "Valor Total de Compra:\n",
      "Login\n",
      "Undirrala66    17.06\n",
      "Saedue76       13.56\n",
      "Mindimnya67    12.74\n",
      "Haellysu29     12.73\n",
      "Eoda93         11.58\n",
      "Name: Valor, dtype: float64\n",
      "\n",
      "\n",
      "Itens mais populares:\n",
      "1 Final Critic\n",
      "2 Arcane Gem\n",
      "3 Betrayal, Whisper of Grieving Widows\n",
      "4 Stormcaller\n",
      "5 Woeful Adamantite Claymore\n"
     ]
    }
   ],
   "source": [
    "print(\"Login:\")\n",
    "login_gb = purchase_file.groupby(['Login']).size().to_frame(name='Grouped')\n",
    "loginList = login_gb.sort_values(by='Grouped', ascending=False).head().index.to_list()\n",
    "i = 1;\n",
    "for login in loginList:\n",
    "    print(i, login)\n",
    "    i += 1\n",
    "print(\"\\n\")\n",
    "print(\"Número de compras:\")\n",
    "login_gb = purchase_file.groupby(['Login']).size().to_frame(name='Compras')\n",
    "print(login_gb.sort_values(by='Compras', ascending=False).head())\n",
    "print(\"\\n\")\n",
    "print(\"Preço médio de compra:\")\n",
    "mean_gb = purchase_file.groupby(['Login'])['Valor'].describe()\n",
    "print(mean_gb.sort_values(by='mean', ascending=False)['mean'].head())\n",
    "print(\"\\n\")\n",
    "print(\"Valor Total de Compra:\")\n",
    "mean_gb = purchase_file.groupby(['Login'])['Valor'].sum()\n",
    "print(mean_gb.sort_values(ascending=False).head())\n",
    "print(\"\\n\")\n",
    "print(\"Itens mais populares:\")\n",
    "itens_gb = purchase_file.groupby(['Nome do Item']).size().to_frame(name='Grouped')\n",
    "itensList = itens_gb.sort_values(by='Grouped', ascending=False).head().index.to_list()\n",
    "i = 1;\n",
    "for item in itensList:\n",
    "    print(i, item)\n",
    "    i += 1"
   ]
  },
  {
   "cell_type": "markdown",
   "metadata": {},
   "source": [
    "## Itens Mais Populares"
   ]
  },
  {
   "cell_type": "code",
   "execution_count": 19,
   "metadata": {},
   "outputs": [
    {
     "name": "stdout",
     "output_type": "stream",
     "text": [
      "                                                    Total\n",
      "Item ID Nome do Item                         Valor       \n",
      "39      Betrayal, Whisper of Grieving Widows 2.35      11\n",
      "84      Arcane Gem                           2.23      11\n",
      "31      Trickster                            2.07       9\n",
      "175     Woeful Adamantite Claymore           1.24       9\n",
      "13      Serenity                             1.49       9\n"
     ]
    }
   ],
   "source": [
    "itens_mp = purchase_file.groupby(['Item ID', 'Nome do Item', 'Valor']).size().to_frame(name='Total')\n",
    "itensList = itens_mp.sort_values(by='Total', ascending=False).head()\n",
    "print(itensList)"
   ]
  },
  {
   "cell_type": "markdown",
   "metadata": {},
   "source": [
    "## Itens Mais Lucrativos"
   ]
  },
  {
   "cell_type": "code",
   "execution_count": 24,
   "metadata": {},
   "outputs": [
    {
     "name": "stdout",
     "output_type": "stream",
     "text": [
      "                                                        Total\n",
      "Item ID Nome do Item                             Valor       \n",
      "32      Orenmir                                  4.95       6\n",
      "177     Winterthorn, Defender of Shifting Worlds 4.89       4\n",
      "103     Singed Scalpel                           4.87       6\n",
      "173     Stormfury Longsword                      4.83       5\n",
      "131     Fury                                     4.82       4\n"
     ]
    }
   ],
   "source": [
    "itens_mp = purchase_file.groupby(['Item ID', 'Nome do Item', 'Valor']).size().to_frame(name='Total')\n",
    "itensList = itens_mp.sort_values(by='Valor', ascending=False).head()\n",
    "print(itensList)"
   ]
  },
  {
   "cell_type": "markdown",
   "metadata": {
    "collapsed": true
   },
   "source": [
    "## Fim"
   ]
  },
  {
   "cell_type": "markdown",
   "metadata": {
    "collapsed": true
   },
   "source": [
    "### Obrigado - Data Science Academy - <a href=\"http://facebook.com/dsacademybr\">facebook.com/dsacademybr</a>"
   ]
  }
 ],
 "metadata": {
  "kernelspec": {
   "display_name": "Python 3",
   "language": "python",
   "name": "python3"
  },
  "language_info": {
   "codemirror_mode": {
    "name": "ipython",
    "version": 3
   },
   "file_extension": ".py",
   "mimetype": "text/x-python",
   "name": "python",
   "nbconvert_exporter": "python",
   "pygments_lexer": "ipython3",
   "version": "3.7.3"
  }
 },
 "nbformat": 4,
 "nbformat_minor": 2
}
